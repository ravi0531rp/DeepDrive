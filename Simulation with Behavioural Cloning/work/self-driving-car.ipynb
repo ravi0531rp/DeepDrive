{
 "cells": [
  {
   "cell_type": "markdown",
   "metadata": {},
   "source": [
    "# How to Make a Self-Driving Car\n",
    "\n",
    "Udacity recently open sourced their self driving car simulator\n",
    "originally built for SDND students\n",
    "\n",
    "![alt text](https://github.com/udacity/self-driving-car-sim/raw/master/sim_image.png \"Logo Title Text 1\")\n",
    "\n",
    "- built in Unity (free game making engine https://unity3d.com/)\n",
    "- add new tracks, change prebuilt scripts like gravity acceleration easily\n",
    "\n",
    "Code:\n",
    "https://github.com/udacity/self-driving-car-sim\n",
    "    \n",
    "## Data Generation \n",
    "\n",
    "- records images from center, left, and right cameras w/ associated steering angle, speed, throttle and brake. \n",
    "- saves to CSV\n",
    "- ideally you have a joystick, but keyboard works too\n",
    "\n",
    "\n",
    "## Training Mode - Behavioral cloning\n",
    "\n",
    "We use a 9 layer convolutional network, based off of Nvidia's\n",
    "end-to-end learning for self driving car paper. 72 hours of driving data was collected in all sorts of conditions from human drivers\n",
    "\n",
    "https://www.youtube.com/watch?v=NJU9ULQUwng\n",
    "\n",
    "#### Hardware design:\n",
    "\n",
    "![alt text](https://devblogs.nvidia.com/parallelforall/wp-content/uploads/2016/08/data-collection-system.png \"Logo Title Text 1\")\n",
    "\n",
    "- 3 cameras\n",
    "-  The steering command is obtained by tapping into the vehicle’s Controller Area Network (CAN) bus.\n",
    "- Nvidia's Drive PX onboard computer with GPUs\n",
    "\n",
    "In order to make the system independent of the car geometry, the steering command is 1/r, where r is the turning radius in meters.  1/r was used instead of r to prevent a singularity when driving straight (the turning radius for driving straight is infinity). 1/r smoothly transitions through zero from left turns (negative values) to right turns (positive values).\n",
    "\n",
    "\n",
    "#### Software Design (supervised learning!) :\n",
    "\n",
    "![alt text](https://devblogs.nvidia.com/parallelforall/wp-content/uploads/2016/08/training.png \"Logo Title Text 1\")\n",
    "\n",
    "Images are fed into a CNN that then computes a proposed steering command. The proposed command is compared to the desired command for that image, and the weights of the CNN are adjusted to bring the CNN output closer to the desired output. The weight adjustment is accomplished using back propagation\n",
    "\n",
    "Eventually, it generated steering commands using just a single camera\n",
    "\n",
    "![alt text](https://devblogs.nvidia.com/parallelforall/wp-content/uploads/2016/08/inference.png \"Logo Title Text 1\")\n",
    "\n",
    "## Testing mode\n",
    "\n",
    "We will just run autonomous mode, then run our model and the car will start driving\n",
    "\n",
    "![alt text](https://cdn-images-1.medium.com/max/1440/1*nlusa_fC5BnsgnWPFnov7Q.tiff \"Logo Title Text 1\")\n",
    "\n"
   ]
  },
  {
   "cell_type": "code",
   "execution_count": null,
   "metadata": {},
   "outputs": [],
   "source": [
    "# Step 1 - Install dependencies\n",
    "\n",
    "#TensorFlow without GPU\n",
    "conda env create -f environments.yml \n",
    "\n",
    "#Use TensorFlow with GPU\n",
    "conda env create -f environments-gpu.yml\n",
    "\n",
    "\n",
    "#Step 2 - Generate Data\n",
    "\n",
    "#Step 3 - Write Training script\n",
    "\n",
    "#Step 4 - Train\n",
    "\n",
    "#Step 5 - Write Testing script\n",
    "\n"
   ]
  }
 ],
 "metadata": {
  "kernelspec": {
   "display_name": "Python 3",
   "language": "python",
   "name": "python3"
  },
  "language_info": {
   "codemirror_mode": {
    "name": "ipython",
    "version": 3
   },
   "file_extension": ".py",
   "mimetype": "text/x-python",
   "name": "python",
   "nbconvert_exporter": "python",
   "pygments_lexer": "ipython3",
   "version": "3.6.6"
  },
  "widgets": {
   "state": {},
   "version": "1.1.2"
  }
 },
 "nbformat": 4,
 "nbformat_minor": 2
}
